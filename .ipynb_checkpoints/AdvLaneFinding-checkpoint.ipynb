{
 "cells": [
  {
   "cell_type": "markdown",
   "metadata": {},
   "source": [
    "# Advanced Lane Finding \n",
    "\n",
    "\n",
    "Stages:\n",
    "\n",
    "1. Calculate Camera Calibration Matrix\n",
    "\n",
    "2. Apply Distortion Correction\n",
    "3. Perform appropriate colour transformations \n",
    "4. Adjust perspective to get Bird's Eye View\n",
    "5. Perform Lane Detection\n",
    "6. Calculate curvature\n",
    "7. Warp back to original image\n",
    "8. Output Image\n",
    "\n",
    "1 is a pre-processing step, while 2-8 indicate our processing pipeline"
   ]
  },
  {
   "cell_type": "code",
   "execution_count": 1,
   "metadata": {},
   "outputs": [],
   "source": [
    "## Import Libraries\n",
    "\n",
    "import pickle\n",
    "import cv2\n",
    "import numpy as np\n",
    "import matplotlib.pyplot as plt\n",
    "import matplotlib.image as mpimg\n"
   ]
  },
  {
   "cell_type": "code",
   "execution_count": 2,
   "metadata": {},
   "outputs": [],
   "source": [
    "# Calculate Camera Distortion Matrix\n",
    "\n",
    "# This is performed in a seperate notebook and the numbers brought in.\n",
    "dist_pickle = pickle.load( open( \"cameracal.p\", \"rb\" ) )\n",
    "\n",
    "mtx = dist_pickle[\"mtx\"]\n",
    "dist = dist_pickle[\"dist\"]\n",
    "\n",
    "# undist = cv2.undistort(img, mtx, dist, None, mtx)"
   ]
  },
  {
   "cell_type": "code",
   "execution_count": 3,
   "metadata": {},
   "outputs": [
    {
     "name": "stdout",
     "output_type": "stream",
     "text": [
      "[[  1.03916946e+03   0.00000000e+00   6.62324897e+02]\n",
      " [  0.00000000e+00   1.05184935e+03   2.40415863e+02]\n",
      " [  0.00000000e+00   0.00000000e+00   1.00000000e+00]]\n",
      "[[ -4.28707372e-01   1.52863667e+00   1.63983842e-02  -6.13484269e-04\n",
      "   -3.08045017e+00]]\n"
     ]
    }
   ],
   "source": [
    "# PipeLine\n",
    "\n",
    "def Pipeline(img):\n",
    "    \n",
    "    # 2 Distortion\n",
    "    img = cv2.undistort(img, mtx, dist, None, mtx)\n",
    "    \n",
    "    # 3 Colour Transforms\n",
    "    \n",
    "    \n",
    "    # 4 Adjust to Bird's Eye\n",
    "    \n",
    "    \n",
    "    # 5 Lane Detectin\n",
    "    \n",
    "    \n",
    "    # 6 Calculate Curvature\n",
    "    \n",
    "\n",
    "    # 7 Warp back to Original\n",
    "    \n",
    "    \n",
    "    # 8 return image\n",
    "    return img\n",
    "    "
   ]
  },
  {
   "cell_type": "code",
   "execution_count": null,
   "metadata": {},
   "outputs": [],
   "source": []
  }
 ],
 "metadata": {
  "kernelspec": {
   "display_name": "Python 3",
   "language": "python",
   "name": "python3"
  },
  "language_info": {
   "codemirror_mode": {
    "name": "ipython",
    "version": 3
   },
   "file_extension": ".py",
   "mimetype": "text/x-python",
   "name": "python",
   "nbconvert_exporter": "python",
   "pygments_lexer": "ipython3",
   "version": "3.6.3"
  }
 },
 "nbformat": 4,
 "nbformat_minor": 2
}
